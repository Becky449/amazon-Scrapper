{
 "cells": [
  {
   "cell_type": "code",
   "execution_count": null,
   "metadata": {},
   "outputs": [],
   "source": [
    "import csv\n",
    "from bs4 import BeautifulSoup\n",
    "from selenium import webdriver\n",
    "\n"
   ]
  },
  {
   "cell_type": "code",
   "execution_count": null,
   "metadata": {},
   "outputs": [],
   "source": [
    "driver = webdriver.Chrome()"
   ]
  },
  {
   "cell_type": "code",
   "execution_count": null,
   "metadata": {},
   "outputs": [],
   "source": [
    "url = 'https://www.amazon.com'\n",
    "driver.get(url)"
   ]
  },
  {
   "cell_type": "code",
   "execution_count": null,
   "metadata": {},
   "outputs": [],
   "source": [
    "def get_url(search_term):\n",
    "    \"\"\"Generate a url from search term\"\"\"\n",
    "    template = 'https://www.amazon.com/s?k={}&crid=3ORS3HPQDQZ22&sprefix=head%2Caps%2C528&ref=nb_sb_ss_ts-doa-p_1_4'\n",
    "    search_term = search_term.replace(' ', '+')\n",
    "    return template.format(search_term)"
   ]
  },
  {
   "cell_type": "code",
   "execution_count": null,
   "metadata": {},
   "outputs": [],
   "source": [
    "url = get_url('headphones')\n",
    "print(url)"
   ]
  },
  {
   "cell_type": "code",
   "execution_count": null,
   "metadata": {},
   "outputs": [],
   "source": [
    "soup = BeautifulSoup(driver.page_source, 'html.parser')\n",
    "results = soup.find_all('div', {'data-component-type': 's-search-result'})\n",
    "len(results)"
   ]
  },
  {
   "cell_type": "code",
   "execution_count": null,
   "metadata": {},
   "outputs": [],
   "source": [
    "item = results[0]\n",
    "atag = item.h2.a\n",
    "description = atag.text.strip()\n",
    "url = 'https://www.amazon.com' + atag.get('href')\n",
    "price_parent = item.find('span', 'a-price')\n",
    "price = price_parent.find('span', 'a-offscreen').text\n",
    "rating = item.i.text\n",
    "review_count = item.find('span', {'class': 'a-size-base s-underline-text'}).text\n"
   ]
  },
  {
   "cell_type": "code",
   "execution_count": null,
   "metadata": {},
   "outputs": [],
   "source": [
    "def extract_record(item):\n",
    "    \"\"\"Extract and return data from a single record\"\"\"\n",
    "    # description and url\n",
    "    atag = item.h2.a\n",
    "    description = atag.text.strip()\n",
    "    url = 'https://www.amazon.com' + atag.get('href')\n",
    "\n",
    "    # price\n",
    "    price_parent = item.find('span', 'a-price')\n",
    "    price = price_parent.find('span', 'a-offscreen').text\n",
    "\n",
    "    #rank and rating\n",
    "    rating = item.i.text\n",
    "    review_count = item.find('span', {'class': 'a-size-base s-underline-text'}).text\n",
    "\n",
    "    result = (description, price, rating, review_count, url)\n",
    "    return result\n",
    "\n"
   ]
  },
  {
   "cell_type": "code",
   "execution_count": null,
   "metadata": {},
   "outputs": [],
   "source": [
    "records = []\n",
    "results = soup.find_all('div', {'data-component-type': 's-search-result'})\n",
    "for item in results:\n",
    "    records.append(extract_record(item))\n"
   ]
  },
  {
   "cell_type": "code",
   "execution_count": null,
   "metadata": {},
   "outputs": [],
   "source": [
    "#ERROR_HANDLING\n",
    "def extract_record(item):\n",
    "    \"\"\"Extract and return data from a single record\"\"\"\n",
    "\n",
    "    # description and url\n",
    "    atag = item.h2.a\n",
    "    description = atag.text.strip()\n",
    "    url = 'https://www.amazon.com' + atag.get('href')\n",
    "\n",
    "    # price\n",
    "    try:\n",
    "      price_parent = item.find('span', 'a-price')\n",
    "      price = price_parent.find('span', 'a-offscreen').text\n",
    "    except AttributeError:\n",
    "      return\n",
    "    #rank and rating\n",
    "    try:\n",
    "      rating = item.i.text\n",
    "      review_count = item.find('span', {'class': 'a-size-base s-underline-text'}).text\n",
    "    except AttributeError:\n",
    "      rating = ''\n",
    "      review_count = ''\n",
    "    result = (description, price, rating, review_count, url)\n",
    "\n",
    "    return result"
   ]
  },
  {
   "cell_type": "code",
   "execution_count": null,
   "metadata": {},
   "outputs": [],
   "source": [
    "records = []\n",
    "results = soup.find_all('div', {'data-component-type': 's-search-result'})\n",
    "for item in results:\n",
    "    record = extract_record(item)\n",
    "    if record:\n",
    "      records.append(record)\n",
    "      records[0]"
   ]
  },
  {
   "cell_type": "code",
   "execution_count": null,
   "metadata": {},
   "outputs": [],
   "source": [
    "for row in records:\n",
    " print(row[1])"
   ]
  },
  {
   "cell_type": "code",
   "execution_count": null,
   "metadata": {},
   "outputs": [],
   "source": [
    "#get to next page\n",
    "def get_url(search_term):\n",
    "    \"\"\"Generate a url from search term\"\"\"\n",
    "    template = 'https://www.amazon.com/s?k={}&crid=3ORS3HPQDQZ22&sprefix=head%2Caps%2C528&ref=nb_sb_ss_ts-doa-p_1_4'\n",
    "    search_term = search_term.replace(' ', '+')\n",
    "\n",
    "    #add term query\n",
    "    url = template.format(search_term)\n",
    "\n",
    "    #add page query placeholder\n",
    "    url += '&page={}'\n",
    "\n",
    "    return url\n",
    "    "
   ]
  },
  {
   "cell_type": "code",
   "execution_count": null,
   "metadata": {},
   "outputs": [],
   "source": [
    "import csv\n",
    "from bs4 import BeautifulSoup\n",
    "from selenium import webdriver\n",
    "\n",
    "def get_url(search_term):\n",
    "    \"\"\"Generate a url from search term\"\"\"\n",
    "    template = 'https://www.amazon.com/s?k={}&crid=3ORS3HPQDQZ22&sprefix=head%2Caps%2C528&ref=nb_sb_ss_ts-doa-p_1_4'\n",
    "    search_term = search_term.replace(' ', '+')\n",
    "\n",
    "    #add term query\n",
    "    url = template.format(search_term)\n",
    "\n",
    "    #add page query placeholder\n",
    "    url += '&page={}'\n",
    "\n",
    "    return url\n",
    "\n",
    "def extract_record(item):\n",
    "    \"\"\"Extract and return data from a single record\"\"\"\n",
    "\n",
    "    # description and url\n",
    "    atag = item.h2.a\n",
    "    description = atag.text.strip()\n",
    "    url = 'https://www.amazon.com' + atag.get('href')\n",
    "\n",
    "\n",
    "    # price\n",
    "    try:\n",
    "      price_parent = item.find('span', 'a-price')\n",
    "      price = price_parent.find('span', 'a-offscreen').text\n",
    "    except AttributeError:\n",
    "      return\n",
    "    #rank and rating\n",
    "    try:\n",
    "      rating = item.i.text\n",
    "      review_count = item.find('span', {'class': 'a-size-base s-underline-text'}).text\n",
    "    except AttributeError:\n",
    "      rating = ''\n",
    "      review_count = ''\n",
    "    result = (description, price, rating, review_count, url)\n",
    "\n",
    "    return result\n",
    "\n",
    "def main(search_term):\n",
    "    \"\"\"run main program routine\"\"\"\n",
    "\n",
    "    #start the web driver\n",
    "    driver = webdriver.Chrome()\n",
    "\n",
    "    records = []\n",
    "    url = get_url(search_term)\n",
    "\n",
    "    for page in range(1, 21):\n",
    "        driver.get(url.format(page))\n",
    "        soup = BeautifulSoup(driver.page_source, 'html.parser')\n",
    "        results = soup.find_all('div', {'data-component-type': 's-search-result'})\n",
    "\n",
    "        for item in results:\n",
    "            record = extract_record(item)\n",
    "            if record:\n",
    "                records.append(record)\n",
    "\n",
    "    driver.close()\n",
    "\n",
    "   \n",
    "\n",
    "main('laptops')"
   ]
  }
 ],
 "metadata": {
  "kernelspec": {
   "display_name": "Python 3",
   "language": "python",
   "name": "python3"
  },
  "language_info": {
   "codemirror_mode": {
    "name": "ipython",
    "version": 3
   },
   "file_extension": ".py",
   "mimetype": "text/x-python",
   "name": "python",
   "nbconvert_exporter": "python",
   "pygments_lexer": "ipython3",
   "version": "3.10.11"
  },
  "orig_nbformat": 4,
  "vscode": {
   "interpreter": {
    "hash": "3b7e9cb8e453d6cda0fe8c8dd13f891a1f09162f0e7c66ffeae7751a7aecf00d"
   }
  }
 },
 "nbformat": 4,
 "nbformat_minor": 2
}
